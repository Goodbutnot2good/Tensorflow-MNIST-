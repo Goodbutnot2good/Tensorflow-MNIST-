{
 "cells": [
  {
   "cell_type": "code",
   "execution_count": 1,
   "metadata": {},
   "outputs": [
    {
     "name": "stderr",
     "output_type": "stream",
     "text": [
      "Using TensorFlow backend.\n"
     ]
    }
   ],
   "source": [
    "import keras\n",
    "from keras.layers import Dense, Dropout\n",
    "from keras.models import Sequential\n",
    "from keras.datasets import mnist\n",
    "from keras.utils.np_utils import to_categorical\n",
    "import numpy as np\n",
    "\n",
    "(x_set, y_set), (x_test, y_test) = mnist.load_data()\n",
    "x_set = x_set/255"
   ]
  },
  {
   "cell_type": "markdown",
   "metadata": {},
   "source": [
    "# Introduction\n",
    "\n",
    "Given we will not be having class next week and I cannot reasonably expect you to do work for which we will not have lectured; this weeks sprint will be broken up into two smaller pieces as was lossely voted on in class, with this being part 1.\n",
    "\n",
    "For this sprint you will be doing a process called K-Fold Cross Validation."
   ]
  },
  {
   "cell_type": "markdown",
   "metadata": {},
   "source": [
    "### Instructions\n",
    "\n",
    "In class you were briefly introduced to Keras, which is a high level machine learning library that can be used to create everything from an introductory model such as what you will be building to very complex models used in industry every day to handle everything from chat bots to object detection and more.\n",
    "\n",
    "### Section 1\n",
    "\n",
    "In the last sprint you did some exploration that helped you understand the dataset and what was in it, this time you are going to prepare it for training. \n",
    "\n",
    "Professor Memon had talked about in his lecture taking your data and properly holding back some of it so that later you could use it to validate if your model was working or not.\n",
    "\n",
    "For this section you will be responsible for implementing in python an algorithm called K-Fold\n",
    "\n",
    "This will be worth **40** points of the sprint\n",
    "\n",
    "\n",
    "### Section 2\n",
    "\n",
    "With K = 5 for the number of folds you will do the below:\n",
    "\n",
    "Now that you have properly segmented your data you will have to train K-1 models and validate them. The code for the model has already been implemented, you do not need to worry about that.\n",
    "\n",
    "The general procedure is:\n",
    "    1. Split your dataset into K even sets of data using the k-fold algorithm.\n",
    "    2. Train a model on set K=0\n",
    "    3. Validate the model on set K=1\n",
    "    4. Repeat for K+1 and K+2\n",
    "    \n",
    "**Note:** Training the models will take some time depending on your computer, each model will be saved so after you are sure this part is working you should only have to do it once. If you mess something up you can delete the model files and start again.\n",
    "    \n",
    "This will be worth **40** points of the sprint\n",
    "\n",
    "### Section 3\n",
    "Provide a few sentences about common pitfalls of k-fold-cross validation and training models with it.\n",
    "\n",
    "This will be worth **20** points of the sprint\n",
    "\n",
    "### Extra credit\n",
    "\n",
    "There are very many other validation methods for constructing machine learning models. Find one and implement it.\n",
    "This is worth **20** extra credit points for the sprint.\n",
    "\n",
    "\n",
    "#### Note:\n",
    "Before you begin, you can use the same virtual environments you created last week, but you must pip install h5py into them. h5py is a file format library that will be used to save the trained models. \n",
    "\n"
   ]
  },
  {
   "cell_type": "code",
   "execution_count": 14,
   "metadata": {},
   "outputs": [],
   "source": [
    "from random import randrange\n",
    "def k_fold_split(x_set, y_set, folds=1):\n",
    "\n",
    "    '''\n",
    "    Inputs: The x_set data from mnist, the y_set labels from mnist\n",
    "    Expected Output: The shuffled and K split datasets\n",
    "    '''\n",
    "    np.random.seed(0)\n",
    "    x_split = list()\n",
    "    y_split = list()\n",
    "    x_copy = list(x_set)\n",
    "    y_copy = list(y_set)\n",
    "    x_fold_size = int(len(x_set) / folds)\n",
    "    y_fold_size = int(len(y_set) / folds)\n",
    "    \n",
    "\n",
    "    for i in range(folds):\n",
    "        fold = list()\n",
    "        while len(fold) < folds:\n",
    "            x_index = randrange(len(x_copy))\n",
    "            fold.append(x_copy.pop(x_index))\n",
    "#             print(folds)\n",
    "        x_split.append(fold)\n",
    "          \n",
    "    for i in range(folds):\n",
    "        fold = list()\n",
    "        while len(fold) < folds:\n",
    "            y_index = randrange(len(y_copy))\n",
    "            fold.append(y_copy.pop(y_index))\n",
    "        y_split.append(fold)\n",
    "    \n",
    "#     print(len(x_set))\n",
    "    return (x_split, y_split)\n",
    "\n",
    "\n",
    "x_folds, y_folds = k_fold_split(x_set, y_set, 5)\n",
    "# print(x_set)\n",
    "# print(y_set)\n",
    "\n",
    "# for i in x_folds:\n",
    "#     print(i)\n",
    "# for i in y_folds:\n",
    "#     print(i)"
   ]
  },
  {
   "cell_type": "code",
   "execution_count": 10,
   "metadata": {},
   "outputs": [],
   "source": [
    "def construct_model():\n",
    "    model = Sequential()\n",
    "    model.add(Dense(512, activation='relu', input_shape=(784,)))\n",
    "    model.add(Dropout(0.2))\n",
    "    model.add(Dense(512, activation='relu'))\n",
    "    model.add(Dropout(0.2))\n",
    "    model.add(Dense(10, activation='softmax'))\n",
    "    model.compile(optimizer='RMSprop', loss='categorical_crossentropy', metrics=['accuracy'])\n",
    "    return model\n",
    "\n",
    "#Epochs are the number of times the dataset will be iterated over, a good number is 20\n",
    "def train_model(model, train_dataset, validation_dataset, epochs, name):\n",
    "    x_set, y_set = train_dataset\n",
    "    model.fit(x_set, y_set, epochs=epochs, batch_size=128, validation_data=validation_dataset)\n",
    "    model.save(f'./{name}')"
   ]
  },
  {
   "cell_type": "code",
   "execution_count": null,
   "metadata": {},
   "outputs": [],
   "source": [
    "#Hint: Neural Networks can't just handle the lables as they are, they need --categorical-- data\n",
    "#Note: You must submit the trained models along with the notebook for full credit\n",
    "def train_validate_k(x_folds, y_folds, num_folds):\n",
    "    '''\n",
    "        Inputs: x_folds, the x folds returned from the k_fold algorithm above, \n",
    "        y_folds the y folds returned from the k_fold algorithm above\n",
    "        num_folds, the number of folds used to make the x_folds and y_folds\n",
    "        Expected Output: Nothing, this function has no explicit output, \n",
    "        but there must be num_fold models trained and saved to disk\n",
    "    '''\n",
    "    pass"
   ]
  },
  {
   "cell_type": "code",
   "execution_count": null,
   "metadata": {},
   "outputs": [],
   "source": [
    "train_validate_k(x_folds, y_folds, 5)"
   ]
  },
  {
   "cell_type": "markdown",
   "metadata": {},
   "source": [
    "#### Section 3, write a few sentences below."
   ]
  },
  {
   "cell_type": "markdown",
   "metadata": {},
   "source": []
  }
 ],
 "metadata": {
  "kernelspec": {
   "display_name": "Python 3",
   "language": "python",
   "name": "python3"
  },
  "language_info": {
   "codemirror_mode": {
    "name": "ipython",
    "version": 3
   },
   "file_extension": ".py",
   "mimetype": "text/x-python",
   "name": "python",
   "nbconvert_exporter": "python",
   "pygments_lexer": "ipython3",
   "version": "3.6.2"
  }
 },
 "nbformat": 4,
 "nbformat_minor": 2
}
